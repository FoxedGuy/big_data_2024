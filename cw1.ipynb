{
 "cells": [
  {
   "cell_type": "code",
   "execution_count": 1,
   "outputs": [],
   "source": [
    "import pandas as pd"
   ],
   "metadata": {
    "collapsed": false,
    "ExecuteTime": {
     "end_time": "2024-03-19T09:19:34.824461100Z",
     "start_time": "2024-03-19T09:19:34.492257200Z"
    }
   },
   "id": "initial_id"
  },
  {
   "cell_type": "markdown",
   "source": [
    "# Zad1"
   ],
   "metadata": {
    "collapsed": false
   },
   "id": "1162230ac19f13bd"
  },
  {
   "cell_type": "markdown",
   "source": [
    "## 1"
   ],
   "metadata": {
    "collapsed": false
   },
   "id": "d099f0af6cba1f86"
  },
  {
   "cell_type": "code",
   "execution_count": 2,
   "outputs": [
    {
     "data": {
      "text/plain": "                   stacja  styczeń  luty  marzec  kwiecień   maj  czerwiec  \\\n0      Warszawa Wschodnia     2084  1963    3269      2569  3180      3063   \n1          Wrocław Główny     1826  1457    2204      1657  1988      2976   \n2      Warszawa Zachodnia     2065  1954    3196      2502  3090      2758   \n3           Poznań Główny     1603  1509    1728      1323  1626      2021   \n4                Katowice     1630  1243    1856      1346  1498      1969   \n...                   ...      ...   ...     ...       ...   ...       ...   \n2817        Chorzów Stary       33    29      15         0     0         0   \n2818          Ciechocinek        0     0       0         0     0         0   \n2819              Hucisko        2     2       5         4     3         0   \n2820  Czernica Wrocławska      120   108      63         0     0         0   \n2821                Biała        0     0       0         0     0         0   \n\n      lipiec  sierpień  wrzesień  październik  listopad  grudzień  \n0       3303      2935      2467         3570      3047      4644  \n1       3771      3238      2659         2969      2766      2720  \n2       2967      2437      2234         3530      2918      4421  \n3       2264      2171      1463         1407      1705      2118  \n4       2250      2012      1314         1448      1530      2450  \n...      ...       ...       ...          ...       ...       ...  \n2817       0         0         0            0         0         0  \n2818       0         0         0            0         0         0  \n2819       0         1         2            0         0         1  \n2820       0         0         0          147       181       130  \n2821       0         0         0            0         0         0  \n\n[2822 rows x 13 columns]",
      "text/html": "<div>\n<style scoped>\n    .dataframe tbody tr th:only-of-type {\n        vertical-align: middle;\n    }\n\n    .dataframe tbody tr th {\n        vertical-align: top;\n    }\n\n    .dataframe thead th {\n        text-align: right;\n    }\n</style>\n<table border=\"1\" class=\"dataframe\">\n  <thead>\n    <tr style=\"text-align: right;\">\n      <th></th>\n      <th>stacja</th>\n      <th>styczeń</th>\n      <th>luty</th>\n      <th>marzec</th>\n      <th>kwiecień</th>\n      <th>maj</th>\n      <th>czerwiec</th>\n      <th>lipiec</th>\n      <th>sierpień</th>\n      <th>wrzesień</th>\n      <th>październik</th>\n      <th>listopad</th>\n      <th>grudzień</th>\n    </tr>\n  </thead>\n  <tbody>\n    <tr>\n      <th>0</th>\n      <td>Warszawa Wschodnia</td>\n      <td>2084</td>\n      <td>1963</td>\n      <td>3269</td>\n      <td>2569</td>\n      <td>3180</td>\n      <td>3063</td>\n      <td>3303</td>\n      <td>2935</td>\n      <td>2467</td>\n      <td>3570</td>\n      <td>3047</td>\n      <td>4644</td>\n    </tr>\n    <tr>\n      <th>1</th>\n      <td>Wrocław Główny</td>\n      <td>1826</td>\n      <td>1457</td>\n      <td>2204</td>\n      <td>1657</td>\n      <td>1988</td>\n      <td>2976</td>\n      <td>3771</td>\n      <td>3238</td>\n      <td>2659</td>\n      <td>2969</td>\n      <td>2766</td>\n      <td>2720</td>\n    </tr>\n    <tr>\n      <th>2</th>\n      <td>Warszawa Zachodnia</td>\n      <td>2065</td>\n      <td>1954</td>\n      <td>3196</td>\n      <td>2502</td>\n      <td>3090</td>\n      <td>2758</td>\n      <td>2967</td>\n      <td>2437</td>\n      <td>2234</td>\n      <td>3530</td>\n      <td>2918</td>\n      <td>4421</td>\n    </tr>\n    <tr>\n      <th>3</th>\n      <td>Poznań Główny</td>\n      <td>1603</td>\n      <td>1509</td>\n      <td>1728</td>\n      <td>1323</td>\n      <td>1626</td>\n      <td>2021</td>\n      <td>2264</td>\n      <td>2171</td>\n      <td>1463</td>\n      <td>1407</td>\n      <td>1705</td>\n      <td>2118</td>\n    </tr>\n    <tr>\n      <th>4</th>\n      <td>Katowice</td>\n      <td>1630</td>\n      <td>1243</td>\n      <td>1856</td>\n      <td>1346</td>\n      <td>1498</td>\n      <td>1969</td>\n      <td>2250</td>\n      <td>2012</td>\n      <td>1314</td>\n      <td>1448</td>\n      <td>1530</td>\n      <td>2450</td>\n    </tr>\n    <tr>\n      <th>...</th>\n      <td>...</td>\n      <td>...</td>\n      <td>...</td>\n      <td>...</td>\n      <td>...</td>\n      <td>...</td>\n      <td>...</td>\n      <td>...</td>\n      <td>...</td>\n      <td>...</td>\n      <td>...</td>\n      <td>...</td>\n      <td>...</td>\n    </tr>\n    <tr>\n      <th>2817</th>\n      <td>Chorzów Stary</td>\n      <td>33</td>\n      <td>29</td>\n      <td>15</td>\n      <td>0</td>\n      <td>0</td>\n      <td>0</td>\n      <td>0</td>\n      <td>0</td>\n      <td>0</td>\n      <td>0</td>\n      <td>0</td>\n      <td>0</td>\n    </tr>\n    <tr>\n      <th>2818</th>\n      <td>Ciechocinek</td>\n      <td>0</td>\n      <td>0</td>\n      <td>0</td>\n      <td>0</td>\n      <td>0</td>\n      <td>0</td>\n      <td>0</td>\n      <td>0</td>\n      <td>0</td>\n      <td>0</td>\n      <td>0</td>\n      <td>0</td>\n    </tr>\n    <tr>\n      <th>2819</th>\n      <td>Hucisko</td>\n      <td>2</td>\n      <td>2</td>\n      <td>5</td>\n      <td>4</td>\n      <td>3</td>\n      <td>0</td>\n      <td>0</td>\n      <td>1</td>\n      <td>2</td>\n      <td>0</td>\n      <td>0</td>\n      <td>1</td>\n    </tr>\n    <tr>\n      <th>2820</th>\n      <td>Czernica Wrocławska</td>\n      <td>120</td>\n      <td>108</td>\n      <td>63</td>\n      <td>0</td>\n      <td>0</td>\n      <td>0</td>\n      <td>0</td>\n      <td>0</td>\n      <td>0</td>\n      <td>147</td>\n      <td>181</td>\n      <td>130</td>\n    </tr>\n    <tr>\n      <th>2821</th>\n      <td>Biała</td>\n      <td>0</td>\n      <td>0</td>\n      <td>0</td>\n      <td>0</td>\n      <td>0</td>\n      <td>0</td>\n      <td>0</td>\n      <td>0</td>\n      <td>0</td>\n      <td>0</td>\n      <td>0</td>\n      <td>0</td>\n    </tr>\n  </tbody>\n</table>\n<p>2822 rows × 13 columns</p>\n</div>"
     },
     "execution_count": 2,
     "metadata": {},
     "output_type": "execute_result"
    }
   ],
   "source": [
    "df = pd.read_csv(\"train.csv.csv\",delimiter=';',encoding='cp1250')\n",
    "df"
   ],
   "metadata": {
    "collapsed": false,
    "ExecuteTime": {
     "end_time": "2024-03-19T09:19:34.865836100Z",
     "start_time": "2024-03-19T09:19:34.825458800Z"
    }
   },
   "id": "25d04b4e76dfb82e"
  },
  {
   "cell_type": "markdown",
   "source": [
    "## 2"
   ],
   "metadata": {
    "collapsed": false
   },
   "id": "7a772f66cc3e9fbf"
  },
  {
   "cell_type": "code",
   "execution_count": 3,
   "outputs": [
    {
     "data": {
      "text/plain": "stacja         0\nstyczeń        0\nluty           0\nmarzec         0\nkwiecień       0\nmaj            0\nczerwiec       0\nlipiec         0\nsierpień       0\nwrzesień       0\npaździernik    0\nlistopad       0\ngrudzień       0\ndtype: int64"
     },
     "execution_count": 3,
     "metadata": {},
     "output_type": "execute_result"
    }
   ],
   "source": [
    "df.isnull().sum()"
   ],
   "metadata": {
    "collapsed": false,
    "ExecuteTime": {
     "end_time": "2024-03-19T09:19:34.930993900Z",
     "start_time": "2024-03-19T09:19:34.855862800Z"
    }
   },
   "id": "2b84774e130ed7bb"
  },
  {
   "cell_type": "markdown",
   "source": [
    "## 3"
   ],
   "metadata": {
    "collapsed": false
   },
   "id": "d04a3cd01d0056f7"
  },
  {
   "cell_type": "code",
   "execution_count": 4,
   "outputs": [
    {
     "data": {
      "text/plain": "                  station  january  february  march  april   may  june  july  \\\n0      Warszawa Wschodnia     2084      1963   3269   2569  3180  3063  3303   \n1          Wrocław Główny     1826      1457   2204   1657  1988  2976  3771   \n2      Warszawa Zachodnia     2065      1954   3196   2502  3090  2758  2967   \n3           Poznań Główny     1603      1509   1728   1323  1626  2021  2264   \n4                Katowice     1630      1243   1856   1346  1498  1969  2250   \n...                   ...      ...       ...    ...    ...   ...   ...   ...   \n2817        Chorzów Stary       33        29     15      0     0     0     0   \n2818          Ciechocinek        0         0      0      0     0     0     0   \n2819              Hucisko        2         2      5      4     3     0     0   \n2820  Czernica Wrocławska      120       108     63      0     0     0     0   \n2821                Biała        0         0      0      0     0     0     0   \n\n      august  september  october  november  december  \n0       2935       2467     3570      3047      4644  \n1       3238       2659     2969      2766      2720  \n2       2437       2234     3530      2918      4421  \n3       2171       1463     1407      1705      2118  \n4       2012       1314     1448      1530      2450  \n...      ...        ...      ...       ...       ...  \n2817       0          0        0         0         0  \n2818       0          0        0         0         0  \n2819       1          2        0         0         1  \n2820       0          0      147       181       130  \n2821       0          0        0         0         0  \n\n[2822 rows x 13 columns]",
      "text/html": "<div>\n<style scoped>\n    .dataframe tbody tr th:only-of-type {\n        vertical-align: middle;\n    }\n\n    .dataframe tbody tr th {\n        vertical-align: top;\n    }\n\n    .dataframe thead th {\n        text-align: right;\n    }\n</style>\n<table border=\"1\" class=\"dataframe\">\n  <thead>\n    <tr style=\"text-align: right;\">\n      <th></th>\n      <th>station</th>\n      <th>january</th>\n      <th>february</th>\n      <th>march</th>\n      <th>april</th>\n      <th>may</th>\n      <th>june</th>\n      <th>july</th>\n      <th>august</th>\n      <th>september</th>\n      <th>october</th>\n      <th>november</th>\n      <th>december</th>\n    </tr>\n  </thead>\n  <tbody>\n    <tr>\n      <th>0</th>\n      <td>Warszawa Wschodnia</td>\n      <td>2084</td>\n      <td>1963</td>\n      <td>3269</td>\n      <td>2569</td>\n      <td>3180</td>\n      <td>3063</td>\n      <td>3303</td>\n      <td>2935</td>\n      <td>2467</td>\n      <td>3570</td>\n      <td>3047</td>\n      <td>4644</td>\n    </tr>\n    <tr>\n      <th>1</th>\n      <td>Wrocław Główny</td>\n      <td>1826</td>\n      <td>1457</td>\n      <td>2204</td>\n      <td>1657</td>\n      <td>1988</td>\n      <td>2976</td>\n      <td>3771</td>\n      <td>3238</td>\n      <td>2659</td>\n      <td>2969</td>\n      <td>2766</td>\n      <td>2720</td>\n    </tr>\n    <tr>\n      <th>2</th>\n      <td>Warszawa Zachodnia</td>\n      <td>2065</td>\n      <td>1954</td>\n      <td>3196</td>\n      <td>2502</td>\n      <td>3090</td>\n      <td>2758</td>\n      <td>2967</td>\n      <td>2437</td>\n      <td>2234</td>\n      <td>3530</td>\n      <td>2918</td>\n      <td>4421</td>\n    </tr>\n    <tr>\n      <th>3</th>\n      <td>Poznań Główny</td>\n      <td>1603</td>\n      <td>1509</td>\n      <td>1728</td>\n      <td>1323</td>\n      <td>1626</td>\n      <td>2021</td>\n      <td>2264</td>\n      <td>2171</td>\n      <td>1463</td>\n      <td>1407</td>\n      <td>1705</td>\n      <td>2118</td>\n    </tr>\n    <tr>\n      <th>4</th>\n      <td>Katowice</td>\n      <td>1630</td>\n      <td>1243</td>\n      <td>1856</td>\n      <td>1346</td>\n      <td>1498</td>\n      <td>1969</td>\n      <td>2250</td>\n      <td>2012</td>\n      <td>1314</td>\n      <td>1448</td>\n      <td>1530</td>\n      <td>2450</td>\n    </tr>\n    <tr>\n      <th>...</th>\n      <td>...</td>\n      <td>...</td>\n      <td>...</td>\n      <td>...</td>\n      <td>...</td>\n      <td>...</td>\n      <td>...</td>\n      <td>...</td>\n      <td>...</td>\n      <td>...</td>\n      <td>...</td>\n      <td>...</td>\n      <td>...</td>\n    </tr>\n    <tr>\n      <th>2817</th>\n      <td>Chorzów Stary</td>\n      <td>33</td>\n      <td>29</td>\n      <td>15</td>\n      <td>0</td>\n      <td>0</td>\n      <td>0</td>\n      <td>0</td>\n      <td>0</td>\n      <td>0</td>\n      <td>0</td>\n      <td>0</td>\n      <td>0</td>\n    </tr>\n    <tr>\n      <th>2818</th>\n      <td>Ciechocinek</td>\n      <td>0</td>\n      <td>0</td>\n      <td>0</td>\n      <td>0</td>\n      <td>0</td>\n      <td>0</td>\n      <td>0</td>\n      <td>0</td>\n      <td>0</td>\n      <td>0</td>\n      <td>0</td>\n      <td>0</td>\n    </tr>\n    <tr>\n      <th>2819</th>\n      <td>Hucisko</td>\n      <td>2</td>\n      <td>2</td>\n      <td>5</td>\n      <td>4</td>\n      <td>3</td>\n      <td>0</td>\n      <td>0</td>\n      <td>1</td>\n      <td>2</td>\n      <td>0</td>\n      <td>0</td>\n      <td>1</td>\n    </tr>\n    <tr>\n      <th>2820</th>\n      <td>Czernica Wrocławska</td>\n      <td>120</td>\n      <td>108</td>\n      <td>63</td>\n      <td>0</td>\n      <td>0</td>\n      <td>0</td>\n      <td>0</td>\n      <td>0</td>\n      <td>0</td>\n      <td>147</td>\n      <td>181</td>\n      <td>130</td>\n    </tr>\n    <tr>\n      <th>2821</th>\n      <td>Biała</td>\n      <td>0</td>\n      <td>0</td>\n      <td>0</td>\n      <td>0</td>\n      <td>0</td>\n      <td>0</td>\n      <td>0</td>\n      <td>0</td>\n      <td>0</td>\n      <td>0</td>\n      <td>0</td>\n      <td>0</td>\n    </tr>\n  </tbody>\n</table>\n<p>2822 rows × 13 columns</p>\n</div>"
     },
     "execution_count": 4,
     "metadata": {},
     "output_type": "execute_result"
    }
   ],
   "source": [
    "# change all columns names to english\n",
    "new_names = {\"stacja\": \"station\", \"styczeń\": \"january\", \"luty\": \"february\", \"marzec\": \"march\", \"kwiecień\": \"april\", \"maj\": \"may\", \"czerwiec\": \"june\", \"lipiec\": \"july\", \"sierpień\": \"august\", \"wrzesień\": \"september\", \"październik\": \"october\", \"listopad\": \"november\", \"grudzień\": \"december\"}\n",
    "df.rename(columns=new_names, inplace=True)\n",
    "df"
   ],
   "metadata": {
    "collapsed": false,
    "ExecuteTime": {
     "end_time": "2024-03-19T09:19:34.946952Z",
     "start_time": "2024-03-19T09:19:34.872488Z"
    }
   },
   "id": "e0a41e5fe89e5e03"
  },
  {
   "cell_type": "markdown",
   "source": [
    "# Zad2\n",
    "## 1"
   ],
   "metadata": {
    "collapsed": false
   },
   "id": "1df374080684a132"
  },
  {
   "cell_type": "code",
   "execution_count": 5,
   "outputs": [
    {
     "data": {
      "text/plain": "                  station         mean\n0      Warszawa Wschodnia  3007.833333\n1          Wrocław Główny  2519.250000\n2      Warszawa Zachodnia  2839.333333\n3           Poznań Główny  1744.833333\n4                Katowice  1712.166667\n...                   ...          ...\n2817        Chorzów Stary     6.416667\n2818          Ciechocinek     0.000000\n2819              Hucisko     1.666667\n2820  Czernica Wrocławska    62.416667\n2821                Biała     0.000000\n\n[2822 rows x 2 columns]",
      "text/html": "<div>\n<style scoped>\n    .dataframe tbody tr th:only-of-type {\n        vertical-align: middle;\n    }\n\n    .dataframe tbody tr th {\n        vertical-align: top;\n    }\n\n    .dataframe thead th {\n        text-align: right;\n    }\n</style>\n<table border=\"1\" class=\"dataframe\">\n  <thead>\n    <tr style=\"text-align: right;\">\n      <th></th>\n      <th>station</th>\n      <th>mean</th>\n    </tr>\n  </thead>\n  <tbody>\n    <tr>\n      <th>0</th>\n      <td>Warszawa Wschodnia</td>\n      <td>3007.833333</td>\n    </tr>\n    <tr>\n      <th>1</th>\n      <td>Wrocław Główny</td>\n      <td>2519.250000</td>\n    </tr>\n    <tr>\n      <th>2</th>\n      <td>Warszawa Zachodnia</td>\n      <td>2839.333333</td>\n    </tr>\n    <tr>\n      <th>3</th>\n      <td>Poznań Główny</td>\n      <td>1744.833333</td>\n    </tr>\n    <tr>\n      <th>4</th>\n      <td>Katowice</td>\n      <td>1712.166667</td>\n    </tr>\n    <tr>\n      <th>...</th>\n      <td>...</td>\n      <td>...</td>\n    </tr>\n    <tr>\n      <th>2817</th>\n      <td>Chorzów Stary</td>\n      <td>6.416667</td>\n    </tr>\n    <tr>\n      <th>2818</th>\n      <td>Ciechocinek</td>\n      <td>0.000000</td>\n    </tr>\n    <tr>\n      <th>2819</th>\n      <td>Hucisko</td>\n      <td>1.666667</td>\n    </tr>\n    <tr>\n      <th>2820</th>\n      <td>Czernica Wrocławska</td>\n      <td>62.416667</td>\n    </tr>\n    <tr>\n      <th>2821</th>\n      <td>Biała</td>\n      <td>0.000000</td>\n    </tr>\n  </tbody>\n</table>\n<p>2822 rows × 2 columns</p>\n</div>"
     },
     "execution_count": 5,
     "metadata": {},
     "output_type": "execute_result"
    }
   ],
   "source": [
    "means = pd.DataFrame(df['station'])\n",
    "means[\"mean\"] = df.iloc[:, 1:].mean(axis=1)\n",
    "means"
   ],
   "metadata": {
    "collapsed": false,
    "ExecuteTime": {
     "end_time": "2024-03-19T09:19:34.971884700Z",
     "start_time": "2024-03-19T09:19:34.887868100Z"
    }
   },
   "id": "82e3965b4b7cf066"
  },
  {
   "cell_type": "markdown",
   "source": [
    "## 2"
   ],
   "metadata": {
    "collapsed": false
   },
   "id": "60af149f60d7cb52"
  },
  {
   "cell_type": "code",
   "execution_count": 6,
   "outputs": [
    {
     "data": {
      "text/plain": "                  station max_delay\n0      Warszawa Wschodnia  december\n1          Wrocław Główny      july\n2      Warszawa Zachodnia  december\n3           Poznań Główny      july\n4                Katowice  december\n...                   ...       ...\n2817        Chorzów Stary   january\n2818          Ciechocinek   january\n2819              Hucisko     march\n2820  Czernica Wrocławska  november\n2821                Biała   january\n\n[2822 rows x 2 columns]",
      "text/html": "<div>\n<style scoped>\n    .dataframe tbody tr th:only-of-type {\n        vertical-align: middle;\n    }\n\n    .dataframe tbody tr th {\n        vertical-align: top;\n    }\n\n    .dataframe thead th {\n        text-align: right;\n    }\n</style>\n<table border=\"1\" class=\"dataframe\">\n  <thead>\n    <tr style=\"text-align: right;\">\n      <th></th>\n      <th>station</th>\n      <th>max_delay</th>\n    </tr>\n  </thead>\n  <tbody>\n    <tr>\n      <th>0</th>\n      <td>Warszawa Wschodnia</td>\n      <td>december</td>\n    </tr>\n    <tr>\n      <th>1</th>\n      <td>Wrocław Główny</td>\n      <td>july</td>\n    </tr>\n    <tr>\n      <th>2</th>\n      <td>Warszawa Zachodnia</td>\n      <td>december</td>\n    </tr>\n    <tr>\n      <th>3</th>\n      <td>Poznań Główny</td>\n      <td>july</td>\n    </tr>\n    <tr>\n      <th>4</th>\n      <td>Katowice</td>\n      <td>december</td>\n    </tr>\n    <tr>\n      <th>...</th>\n      <td>...</td>\n      <td>...</td>\n    </tr>\n    <tr>\n      <th>2817</th>\n      <td>Chorzów Stary</td>\n      <td>january</td>\n    </tr>\n    <tr>\n      <th>2818</th>\n      <td>Ciechocinek</td>\n      <td>january</td>\n    </tr>\n    <tr>\n      <th>2819</th>\n      <td>Hucisko</td>\n      <td>march</td>\n    </tr>\n    <tr>\n      <th>2820</th>\n      <td>Czernica Wrocławska</td>\n      <td>november</td>\n    </tr>\n    <tr>\n      <th>2821</th>\n      <td>Biała</td>\n      <td>january</td>\n    </tr>\n  </tbody>\n</table>\n<p>2822 rows × 2 columns</p>\n</div>"
     },
     "execution_count": 6,
     "metadata": {},
     "output_type": "execute_result"
    }
   ],
   "source": [
    "max_delay = pd.DataFrame(df['station'])\n",
    "max_delay[\"max_delay\"] = df.iloc[:, 1:].idxmax(axis=1)\n",
    "max_delay"
   ],
   "metadata": {
    "collapsed": false,
    "ExecuteTime": {
     "end_time": "2024-03-19T09:19:34.972883Z",
     "start_time": "2024-03-19T09:19:34.902863900Z"
    }
   },
   "id": "264834cb6ebbc6d1"
  },
  {
   "cell_type": "markdown",
   "source": [
    "## 3"
   ],
   "metadata": {
    "collapsed": false
   },
   "id": "2dd7e55cc4eb280e"
  },
  {
   "cell_type": "code",
   "execution_count": 7,
   "outputs": [
    {
     "data": {
      "text/plain": "                  station  total_delay\n0      Warszawa Wschodnia        36094\n1          Wrocław Główny        30231\n2      Warszawa Zachodnia        34072\n3           Poznań Główny        20938\n4                Katowice        20546\n...                   ...          ...\n2817        Chorzów Stary           77\n2818          Ciechocinek            0\n2819              Hucisko           20\n2820  Czernica Wrocławska          749\n2821                Biała            0\n\n[2822 rows x 2 columns]",
      "text/html": "<div>\n<style scoped>\n    .dataframe tbody tr th:only-of-type {\n        vertical-align: middle;\n    }\n\n    .dataframe tbody tr th {\n        vertical-align: top;\n    }\n\n    .dataframe thead th {\n        text-align: right;\n    }\n</style>\n<table border=\"1\" class=\"dataframe\">\n  <thead>\n    <tr style=\"text-align: right;\">\n      <th></th>\n      <th>station</th>\n      <th>total_delay</th>\n    </tr>\n  </thead>\n  <tbody>\n    <tr>\n      <th>0</th>\n      <td>Warszawa Wschodnia</td>\n      <td>36094</td>\n    </tr>\n    <tr>\n      <th>1</th>\n      <td>Wrocław Główny</td>\n      <td>30231</td>\n    </tr>\n    <tr>\n      <th>2</th>\n      <td>Warszawa Zachodnia</td>\n      <td>34072</td>\n    </tr>\n    <tr>\n      <th>3</th>\n      <td>Poznań Główny</td>\n      <td>20938</td>\n    </tr>\n    <tr>\n      <th>4</th>\n      <td>Katowice</td>\n      <td>20546</td>\n    </tr>\n    <tr>\n      <th>...</th>\n      <td>...</td>\n      <td>...</td>\n    </tr>\n    <tr>\n      <th>2817</th>\n      <td>Chorzów Stary</td>\n      <td>77</td>\n    </tr>\n    <tr>\n      <th>2818</th>\n      <td>Ciechocinek</td>\n      <td>0</td>\n    </tr>\n    <tr>\n      <th>2819</th>\n      <td>Hucisko</td>\n      <td>20</td>\n    </tr>\n    <tr>\n      <th>2820</th>\n      <td>Czernica Wrocławska</td>\n      <td>749</td>\n    </tr>\n    <tr>\n      <th>2821</th>\n      <td>Biała</td>\n      <td>0</td>\n    </tr>\n  </tbody>\n</table>\n<p>2822 rows × 2 columns</p>\n</div>"
     },
     "execution_count": 7,
     "metadata": {},
     "output_type": "execute_result"
    }
   ],
   "source": [
    "# Oblicz całkowite opóźnienie na każdej stacji w ciągu roku. Użyj do tego sumy sum().\n",
    "total_delay = pd.DataFrame(df['station'])\n",
    "total_delay[\"total_delay\"] = df.iloc[:, 1:].sum(axis=1)\n",
    "total_delay"
   ],
   "metadata": {
    "collapsed": false,
    "ExecuteTime": {
     "end_time": "2024-03-19T09:19:34.972883Z",
     "start_time": "2024-03-19T09:19:34.918389600Z"
    }
   },
   "id": "6c114e7341e5ac60"
  },
  {
   "cell_type": "markdown",
   "source": [
    "# Zad3\n",
    "## 1"
   ],
   "metadata": {
    "collapsed": false
   },
   "id": "c525058e6f1246f"
  },
  {
   "cell_type": "code",
   "execution_count": 8,
   "outputs": [
    {
     "data": {
      "text/plain": "              station  january  february  march  april   may  june  july  \\\n0  Warszawa Wschodnia     2084      1963   3269   2569  3180  3063  3303   \n7  Warszawa Centralna     1138      1005   1622   1298  1613  1715  1960   \n\n   august  september  october  november  december  \n0    2935       2467     3570      3047      4644  \n7    1759       1280     1282      1334      1522  ",
      "text/html": "<div>\n<style scoped>\n    .dataframe tbody tr th:only-of-type {\n        vertical-align: middle;\n    }\n\n    .dataframe tbody tr th {\n        vertical-align: top;\n    }\n\n    .dataframe thead th {\n        text-align: right;\n    }\n</style>\n<table border=\"1\" class=\"dataframe\">\n  <thead>\n    <tr style=\"text-align: right;\">\n      <th></th>\n      <th>station</th>\n      <th>january</th>\n      <th>february</th>\n      <th>march</th>\n      <th>april</th>\n      <th>may</th>\n      <th>june</th>\n      <th>july</th>\n      <th>august</th>\n      <th>september</th>\n      <th>october</th>\n      <th>november</th>\n      <th>december</th>\n    </tr>\n  </thead>\n  <tbody>\n    <tr>\n      <th>0</th>\n      <td>Warszawa Wschodnia</td>\n      <td>2084</td>\n      <td>1963</td>\n      <td>3269</td>\n      <td>2569</td>\n      <td>3180</td>\n      <td>3063</td>\n      <td>3303</td>\n      <td>2935</td>\n      <td>2467</td>\n      <td>3570</td>\n      <td>3047</td>\n      <td>4644</td>\n    </tr>\n    <tr>\n      <th>7</th>\n      <td>Warszawa Centralna</td>\n      <td>1138</td>\n      <td>1005</td>\n      <td>1622</td>\n      <td>1298</td>\n      <td>1613</td>\n      <td>1715</td>\n      <td>1960</td>\n      <td>1759</td>\n      <td>1280</td>\n      <td>1282</td>\n      <td>1334</td>\n      <td>1522</td>\n    </tr>\n  </tbody>\n</table>\n</div>"
     },
     "execution_count": 8,
     "metadata": {},
     "output_type": "execute_result"
    }
   ],
   "source": [
    "# Porównaj średnie opóźnienie między stacjami Warszawa Centralna a Warszawa Wschodnia\n",
    "# dla każdego miesiąca. Użyj do tego bezpośredniego porównania wartości.\n",
    "warszawa = df[(df['station'] == 'Warszawa Centralna') | (df['station'] == 'Warszawa Wschodnia')]\n",
    "warszawa"
   ],
   "metadata": {
    "collapsed": false,
    "ExecuteTime": {
     "end_time": "2024-03-19T09:19:34.973880200Z",
     "start_time": "2024-03-19T09:19:34.932990Z"
    }
   },
   "id": "8b7c8990340e92b3"
  },
  {
   "cell_type": "markdown",
   "source": [
    "## 2"
   ],
   "metadata": {
    "collapsed": false
   },
   "id": "5896b2ae11562ad6"
  },
  {
   "cell_type": "code",
   "execution_count": 56,
   "outputs": [
    {
     "data": {
      "text/plain": "0       Warszawa Wschodnia\n1           Wrocław Główny\n3            Poznań Główny\n4                 Katowice\n5            Kraków Główny\n               ...        \n2791           Karolinówka\n2794      Majdan Stuleński\n2800       Łaziska Średnie\n2810     Głuchołazy Miasto\n2816             Horka Gbf\nName: station, Length: 2165, dtype: object"
     },
     "execution_count": 56,
     "metadata": {},
     "output_type": "execute_result"
    }
   ],
   "source": [
    "def bigger_than_mean(row):\n",
    "    return row[\"mean_summer\"] > row[\"mean_annu\"]\n",
    "\n",
    "summer = df.filter(items=[\"station\", \"june\", \"july\", \"august\"])\n",
    "summer[\"mean_annu\"] = means[\"mean\"]\n",
    "summer[\"mean_summer\"] = summer.iloc[:, 1:4].mean(axis=1)\n",
    "summer[\"bigger summer\"] = summer.agg(axis=1,func=bigger_than_mean)\n",
    "summer = summer[summer[\"bigger summer\"] == True]\n",
    "summer[\"station\"]\n"
   ],
   "metadata": {
    "collapsed": false,
    "ExecuteTime": {
     "end_time": "2024-03-19T09:30:11.018730600Z",
     "start_time": "2024-03-19T09:30:10.989222900Z"
    }
   },
   "id": "3560537ad4f8a8ca"
  },
  {
   "cell_type": "markdown",
   "source": [
    "# Zad4\n",
    "## 1"
   ],
   "metadata": {
    "collapsed": false
   },
   "id": "3f14afcd5187e8e2"
  }
 ],
 "metadata": {
  "kernelspec": {
   "display_name": "Python 3",
   "language": "python",
   "name": "python3"
  },
  "language_info": {
   "codemirror_mode": {
    "name": "ipython",
    "version": 2
   },
   "file_extension": ".py",
   "mimetype": "text/x-python",
   "name": "python",
   "nbconvert_exporter": "python",
   "pygments_lexer": "ipython2",
   "version": "2.7.6"
  }
 },
 "nbformat": 4,
 "nbformat_minor": 5
}
